{
  "nbformat": 4,
  "nbformat_minor": 0,
  "metadata": {
    "colab": {
      "provenance": [],
      "authorship_tag": "ABX9TyOrnC28Zd5eer0h433DqUNa",
      "include_colab_link": true
    },
    "kernelspec": {
      "name": "python3",
      "display_name": "Python 3"
    },
    "language_info": {
      "name": "python"
    }
  },
  "cells": [
    {
      "cell_type": "markdown",
      "metadata": {
        "id": "view-in-github",
        "colab_type": "text"
      },
      "source": [
        "<a href=\"https://colab.research.google.com/github/ItshMoh/Audio_Detection/blob/main/federated_learning.ipynb\" target=\"_parent\"><img src=\"https://colab.research.google.com/assets/colab-badge.svg\" alt=\"Open In Colab\"/></a>"
      ]
    },
    {
      "cell_type": "code",
      "execution_count": null,
      "metadata": {
        "colab": {
          "base_uri": "https://localhost:8080/"
        },
        "id": "jojJu7HPqKY7",
        "outputId": "6a117912-4acb-48ba-b69c-40559e0c0beb"
      },
      "outputs": [
        {
          "output_type": "stream",
          "name": "stdout",
          "text": [
            "\u001b[2K     \u001b[90m━━━━━━━━━━━━━━━━━━━━━━━━━━━━━━━━━━━━━━━\u001b[0m \u001b[32m200.4/200.4 kB\u001b[0m \u001b[31m3.1 MB/s\u001b[0m eta \u001b[36m0:00:00\u001b[0m\n",
            "\u001b[2K     \u001b[90m━━━━━━━━━━━━━━━━━━━━━━━━━━━━━━━━━━━━━━━━\u001b[0m \u001b[32m2.1/2.1 MB\u001b[0m \u001b[31m12.5 MB/s\u001b[0m eta \u001b[36m0:00:00\u001b[0m\n",
            "\u001b[2K     \u001b[90m━━━━━━━━━━━━━━━━━━━━━━━━━━━━━━━━━━━━━━━━\u001b[0m \u001b[32m3.1/3.1 MB\u001b[0m \u001b[31m23.1 MB/s\u001b[0m eta \u001b[36m0:00:00\u001b[0m\n",
            "\u001b[2K     \u001b[90m━━━━━━━━━━━━━━━━━━━━━━━━━━━━━━━━━━━━━━━━\u001b[0m \u001b[32m56.9/56.9 MB\u001b[0m \u001b[31m13.8 MB/s\u001b[0m eta \u001b[36m0:00:00\u001b[0m\n",
            "\u001b[2K     \u001b[90m━━━━━━━━━━━━━━━━━━━━━━━━━━━━━━━━━━━━━━\u001b[0m \u001b[32m201.4/201.4 kB\u001b[0m \u001b[31m21.2 MB/s\u001b[0m eta \u001b[36m0:00:00\u001b[0m\n",
            "\u001b[2K     \u001b[90m━━━━━━━━━━━━━━━━━━━━━━━━━━━━━━━━━━━━━━━━\u001b[0m \u001b[32m3.0/3.0 MB\u001b[0m \u001b[31m44.8 MB/s\u001b[0m eta \u001b[36m0:00:00\u001b[0m\n",
            "\u001b[2K     \u001b[90m━━━━━━━━━━━━━━━━━━━━━━━━━━━━━━━━━━━━━━━━\u001b[0m \u001b[32m98.1/98.1 kB\u001b[0m \u001b[31m8.2 MB/s\u001b[0m eta \u001b[36m0:00:00\u001b[0m\n",
            "\u001b[?25h  Installing build dependencies ... \u001b[?25l\u001b[?25hdone\n",
            "  Getting requirements to build wheel ... \u001b[?25l\u001b[?25hdone\n",
            "  Preparing metadata (pyproject.toml) ... \u001b[?25l\u001b[?25hdone\n",
            "\u001b[2K     \u001b[90m━━━━━━━━━━━━━━━━━━━━━━━━━━━━━━━━━━━━━━\u001b[0m \u001b[32m128.2/128.2 kB\u001b[0m \u001b[31m15.6 MB/s\u001b[0m eta \u001b[36m0:00:00\u001b[0m\n",
            "\u001b[2K     \u001b[90m━━━━━━━━━━━━━━━━━━━━━━━━━━━━━━━━━━━━━━━━\u001b[0m \u001b[32m8.7/8.7 MB\u001b[0m \u001b[31m89.3 MB/s\u001b[0m eta \u001b[36m0:00:00\u001b[0m\n",
            "\u001b[2K     \u001b[90m━━━━━━━━━━━━━━━━━━━━━━━━━━━━━━━━━━━━━━━━\u001b[0m \u001b[32m58.4/58.4 kB\u001b[0m \u001b[31m6.4 MB/s\u001b[0m eta \u001b[36m0:00:00\u001b[0m\n",
            "\u001b[2K     \u001b[90m━━━━━━━━━━━━━━━━━━━━━━━━━━━━━━━━━━━━━━\u001b[0m \u001b[32m468.9/468.9 kB\u001b[0m \u001b[31m41.1 MB/s\u001b[0m eta \u001b[36m0:00:00\u001b[0m\n",
            "\u001b[?25h  Building wheel for gpustat (pyproject.toml) ... \u001b[?25l\u001b[?25hdone\n"
          ]
        }
      ],
      "source": [
        "!pip install -q flwr[simulation]"
      ]
    },
    {
      "cell_type": "code",
      "source": [
        "from collections import OrderedDict\n",
        "from typing import List, Tuple\n",
        "\n",
        "import matplotlib.pyplot as plt\n",
        "import numpy as np\n",
        "import torch\n",
        "import torch.nn as nn\n",
        "import torch.nn.functional as F\n",
        "import torchvision\n",
        "import torchvision.transforms as transforms\n",
        "from torch.utils.data import DataLoader, random_split"
      ],
      "metadata": {
        "id": "3TAuX4jAqaxP"
      },
      "execution_count": null,
      "outputs": []
    },
    {
      "cell_type": "code",
      "source": [
        "from torchvision.datasets import MNIST"
      ],
      "metadata": {
        "id": "MuR546r8rCdo"
      },
      "execution_count": null,
      "outputs": []
    },
    {
      "cell_type": "code",
      "source": [
        "import flwr as fl\n",
        "from flwr.common import Metrics"
      ],
      "metadata": {
        "id": "F7hzU2IMrKTs"
      },
      "execution_count": null,
      "outputs": []
    },
    {
      "cell_type": "code",
      "source": [
        "Classes= (\n",
        "    'ZERO',\n",
        "    'ONE',\n",
        "    'TWO',\n",
        "    'THREE',\n",
        "    'FOUR',\n",
        "    'FIVE',\n",
        "    'SIX',\n",
        "    'SEVEN',\n",
        "    'EIGHT',\n",
        "    'NINE',\n",
        "\n",
        ")"
      ],
      "metadata": {
        "id": "o8LxzYzzrM59"
      },
      "execution_count": null,
      "outputs": []
    },
    {
      "cell_type": "code",
      "source": [
        "no_of_clients=108"
      ],
      "metadata": {
        "id": "CmuB0W2SrzAl"
      },
      "execution_count": null,
      "outputs": []
    },
    {
      "cell_type": "code",
      "source": [
        "BATCH_SIZE = 32\n",
        "no_of_clients=108\n",
        "\n",
        "def load_datasets():\n",
        "\n",
        "    transform = transforms.Compose([transforms.ToTensor(), transforms.Normalize((0.5,), (0.5,))])\n",
        "    train_dataset=MNIST(\"./dataset\",download=True,train=True,transform=transform)\n",
        "    test_dataset=MNIST(\"./dataset\",download=True,train=False,transform=transform)\n",
        "\n",
        "    partition_size = len(train_dataset) // no_of_clients\n",
        "    remainder = len(train_dataset) % no_of_clients\n",
        "    lengths = [partition_size] * no_of_clients\n",
        "    for i in range(remainder):\n",
        "        lengths[i] += 1\n",
        "\n",
        "    datasets = random_split(train_dataset, lengths, torch.Generator().manual_seed(42))\n",
        "\n",
        "    trainloaders = []\n",
        "    valloaders = []\n",
        "    for ds in datasets:\n",
        "        len_val = len(ds) // 10\n",
        "        len_train = len(ds) - len_val\n",
        "        lengths = [len_train, len_val]\n",
        "        ds_train, ds_val = random_split(ds, lengths, torch.Generator().manual_seed(42))\n",
        "        trainloaders.append(DataLoader(ds_train, batch_size=BATCH_SIZE, shuffle=True))\n",
        "        valloaders.append(DataLoader(ds_val, batch_size=BATCH_SIZE))\n",
        "    testloader = DataLoader(test_dataset, batch_size=BATCH_SIZE)\n",
        "    return trainloaders, valloaders, testloader\n",
        "\n",
        "trainloaders, valloaders, testloader = load_datasets()\n"
      ],
      "metadata": {
        "colab": {
          "base_uri": "https://localhost:8080/"
        },
        "id": "jNq1cK3Er6aq",
        "outputId": "3ba77eb4-cfff-4779-dffe-cbc67f29e0d0"
      },
      "execution_count": null,
      "outputs": [
        {
          "output_type": "stream",
          "name": "stdout",
          "text": [
            "Downloading http://yann.lecun.com/exdb/mnist/train-images-idx3-ubyte.gz\n",
            "Downloading http://yann.lecun.com/exdb/mnist/train-images-idx3-ubyte.gz to ./dataset/MNIST/raw/train-images-idx3-ubyte.gz\n"
          ]
        },
        {
          "output_type": "stream",
          "name": "stderr",
          "text": [
            "100%|██████████| 9912422/9912422 [00:00<00:00, 120900042.88it/s]\n"
          ]
        },
        {
          "output_type": "stream",
          "name": "stdout",
          "text": [
            "Extracting ./dataset/MNIST/raw/train-images-idx3-ubyte.gz to ./dataset/MNIST/raw\n",
            "\n",
            "Downloading http://yann.lecun.com/exdb/mnist/train-labels-idx1-ubyte.gz\n",
            "Downloading http://yann.lecun.com/exdb/mnist/train-labels-idx1-ubyte.gz to ./dataset/MNIST/raw/train-labels-idx1-ubyte.gz\n"
          ]
        },
        {
          "output_type": "stream",
          "name": "stderr",
          "text": [
            "100%|██████████| 28881/28881 [00:00<00:00, 76474554.18it/s]\n"
          ]
        },
        {
          "output_type": "stream",
          "name": "stdout",
          "text": [
            "Extracting ./dataset/MNIST/raw/train-labels-idx1-ubyte.gz to ./dataset/MNIST/raw\n",
            "\n",
            "Downloading http://yann.lecun.com/exdb/mnist/t10k-images-idx3-ubyte.gz\n",
            "Downloading http://yann.lecun.com/exdb/mnist/t10k-images-idx3-ubyte.gz to ./dataset/MNIST/raw/t10k-images-idx3-ubyte.gz\n"
          ]
        },
        {
          "output_type": "stream",
          "name": "stderr",
          "text": [
            "100%|██████████| 1648877/1648877 [00:00<00:00, 44728021.40it/s]"
          ]
        },
        {
          "output_type": "stream",
          "name": "stdout",
          "text": [
            "Extracting ./dataset/MNIST/raw/t10k-images-idx3-ubyte.gz to ./dataset/MNIST/raw\n"
          ]
        },
        {
          "output_type": "stream",
          "name": "stderr",
          "text": [
            "\n"
          ]
        },
        {
          "output_type": "stream",
          "name": "stdout",
          "text": [
            "\n",
            "Downloading http://yann.lecun.com/exdb/mnist/t10k-labels-idx1-ubyte.gz\n",
            "Downloading http://yann.lecun.com/exdb/mnist/t10k-labels-idx1-ubyte.gz to ./dataset/MNIST/raw/t10k-labels-idx1-ubyte.gz\n"
          ]
        },
        {
          "output_type": "stream",
          "name": "stderr",
          "text": [
            "100%|██████████| 4542/4542 [00:00<00:00, 14366914.61it/s]"
          ]
        },
        {
          "output_type": "stream",
          "name": "stdout",
          "text": [
            "Extracting ./dataset/MNIST/raw/t10k-labels-idx1-ubyte.gz to ./dataset/MNIST/raw\n",
            "\n"
          ]
        },
        {
          "output_type": "stream",
          "name": "stderr",
          "text": [
            "\n"
          ]
        }
      ]
    },
    {
      "cell_type": "code",
      "source": [
        "images, labels = next(iter(trainloaders[0]))\n",
        "\n",
        "# Reshape and convert images to a NumPy array\n",
        "# matplotlib requires images with the shape (height, width, 3)\n",
        "images = images.permute(0, 2, 3, 1).numpy()\n",
        "# Denormalize\n",
        "images = images / 2 + 0.5\n",
        "\n",
        "# Create a figure and a grid of subplots\n",
        "fig, axs = plt.subplots(4, 8, figsize=(12, 6))\n",
        "\n",
        "# Loop over the images and plot them\n",
        "for i, ax in enumerate(axs.flat):\n",
        "    ax.imshow(images[i])\n",
        "    ax.set_title(Classes[labels[i]])\n",
        "    ax.axis(\"off\")\n",
        "\n",
        "# Show the plot\n",
        "fig.tight_layout()\n",
        "plt.show()"
      ],
      "metadata": {
        "colab": {
          "base_uri": "https://localhost:8080/",
          "height": 607
        },
        "id": "ow25nOu3uoKF",
        "outputId": "53e46377-4028-4f25-e8c6-f730c3683284"
      },
      "execution_count": null,
      "outputs": [
        {
          "output_type": "display_data",
          "data": {
            "text/plain": [
              "<Figure size 1200x600 with 32 Axes>"
            ],
            "image/png": "[encoded data removed]"
          },
          "metadata": {}
        }
      ]
    },
    {
      "cell_type": "code",
      "source": [
        "class Net(nn.Module):\n",
        "    def __init__(self) -> None:\n",
        "        super(Net, self).__init__()\n",
        "        self.conv1 = nn.Conv2d(1, 6, 5)\n",
        "        self.pool = nn.MaxPool2d(2, 2)\n",
        "        self.conv2 = nn.Conv2d(6, 16, 5)\n",
        "        self.fc1 = nn.Linear(16* 4*4, 120)\n",
        "        self.fc2 = nn.Linear(120, 84)\n",
        "        self.fc3 = nn.Linear(84, 10)\n",
        "\n",
        "    def forward(self, x: torch.Tensor) -> torch.Tensor:\n",
        "        x = self.pool(F.relu(self.conv1(x)))\n",
        "        x = self.pool(F.relu(self.conv2(x)))\n",
        "        x = x.view(-1, 16*4*4)\n",
        "        x = F.relu(self.fc1(x))\n",
        "        x = F.relu(self.fc2(x))\n",
        "        x = self.fc3(x)\n",
        "        return x"
      ],
      "metadata": {
        "id": "kKTzHlfXurC-"
      },
      "execution_count": null,
      "outputs": []
    },
    {
      "cell_type": "code",
      "source": [
        "DEVICE = torch.device(\"cpu\")"
      ],
      "metadata": {
        "id": "sF2kgKj_N9qg"
      },
      "execution_count": null,
      "outputs": []
    },
    {
      "cell_type": "code",
      "source": [
        "def train(net, trainloader, epochs: int, verbose=False):\n",
        "    \"\"\"Train the network on the training set.\"\"\"\n",
        "    criterion = torch.nn.CrossEntropyLoss()\n",
        "    optimizer = torch.optim.Adam(net.parameters())\n",
        "    net.train()\n",
        "    for epoch in range(epochs):\n",
        "        correct, total, epoch_loss = 0, 0, 0.0\n",
        "        for images, labels in trainloader:\n",
        "            images, labels = images.to(DEVICE), labels.to(DEVICE)\n",
        "            optimizer.zero_grad()\n",
        "            outputs = net(images)\n",
        "            loss = criterion(outputs, labels)\n",
        "            loss.backward()\n",
        "            optimizer.step()\n",
        "            # Metrics\n",
        "            epoch_loss += loss\n",
        "            total += labels.size(0)\n",
        "            correct += (torch.max(outputs.data, 1)[1] == labels).sum().item()\n",
        "        epoch_loss /= len(trainloader.dataset)\n",
        "        epoch_acc = correct / total\n",
        "        if verbose:\n",
        "            print(f\"Epoch {epoch+1}: train loss {epoch_loss}, accuracy {epoch_acc}\")\n",
        "\n",
        "def test(net, testloader):\n",
        "    \"\"\"Evaluate the network on the entire test set.\"\"\"\n",
        "    criterion = torch.nn.CrossEntropyLoss()\n",
        "    correct, total, loss = 0, 0, 0.0\n",
        "    net.eval()\n",
        "    with torch.no_grad():\n",
        "        for images, labels in testloader:\n",
        "            images, labels = images.to(DEVICE), labels.to(DEVICE)\n",
        "            outputs = net(images)\n",
        "            loss += criterion(outputs, labels).item()\n",
        "            _, predicted = torch.max(outputs.data, 1)\n",
        "            total += labels.size(0)\n",
        "            correct += (predicted == labels).sum().item()\n",
        "    loss /= len(testloader.dataset)\n",
        "    accuracy = correct / total\n",
        "    return loss, accuracy"
      ],
      "metadata": {
        "id": "Ussm02aLMiWZ"
      },
      "execution_count": null,
      "outputs": []
    },
    {
      "cell_type": "code",
      "source": [
        "trainloader = trainloaders[0]\n",
        "valloader = valloaders[0]\n",
        "net = Net().to(DEVICE)\n",
        "\n",
        "\n",
        "for epoch in range(5):\n",
        "    train(net, trainloader, 1)\n",
        "    loss, accuracy = test(net, valloader)\n",
        "    print(f\"Epoch {epoch+1}: validation loss {loss}, accuracy {accuracy}\")\n",
        "\n",
        "loss, accuracy = test(net, testloader)\n",
        "print(f\"Final test set performance:\\n\\tloss {loss}\\n\\taccuracy {accuracy}\")"
      ],
      "metadata": {
        "colab": {
          "base_uri": "https://localhost:8080/"
        },
        "id": "vGXofm2nOaXk",
        "outputId": "f7b37d02-9eee-468e-ea31-a8ee4a09091c"
      },
      "execution_count": null,
      "outputs": [
        {
          "output_type": "stream",
          "name": "stdout",
          "text": [
            "Epoch 1: validation loss 0.08025504892522639, accuracy 0.38181818181818183\n",
            "Epoch 2: validation loss 0.06315272071144798, accuracy 0.4727272727272727\n",
            "Epoch 3: validation loss 0.03835756778717041, accuracy 0.7272727272727273\n",
            "Epoch 4: validation loss 0.029160742326216266, accuracy 0.7272727272727273\n",
            "Epoch 5: validation loss 0.024366581439971925, accuracy 0.7818181818181819\n",
            "Final test set performance:\n",
            "\tloss 0.022079178203642368\n",
            "\taccuracy 0.784\n"
          ]
        }
      ]
    },
    {
      "cell_type": "code",
      "source": [
        "def get_parameters(net) -> List[np.ndarray]:\n",
        "    return [val.cpu().numpy() for _, val in net.state_dict().items()]\n",
        "\n",
        "\n",
        "def set_parameters(net, parameters: List[np.ndarray]):\n",
        "    params_dict = zip(net.state_dict().keys(), parameters)\n",
        "    state_dict = OrderedDict({k: torch.Tensor(v) for k, v in params_dict})\n",
        "    net.load_state_dict(state_dict, strict=True)"
      ],
      "metadata": {
        "id": "gbXqaLs6w1l6"
      },
      "execution_count": null,
      "outputs": []
    },
    {
      "cell_type": "code",
      "source": [
        "class FlowerClient(fl.client.NumPyClient):\n",
        "    def __init__(self, net, trainloader, valloader):\n",
        "        self.net = net\n",
        "        self.trainloader = trainloader\n",
        "        self.valloader = valloader\n",
        "\n",
        "    def get_parameters(self, config):\n",
        "        return get_parameters(self.net)\n",
        "\n",
        "    def fit(self, parameters, config):\n",
        "        set_parameters(self.net, parameters)\n",
        "        train(self.net, self.trainloader, epochs=1)\n",
        "        return get_parameters(self.net), len(self.trainloader), {}\n",
        "\n",
        "    def evaluate(self, parameters, config):\n",
        "        set_parameters(self.net, parameters)\n",
        "        loss, accuracy = test(self.net, self.valloader)\n",
        "        return float(loss), len(self.valloader), {\"accuracy\": float(accuracy)}"
      ],
      "metadata": {
        "id": "z_RH6qQ03_At"
      },
      "execution_count": null,
      "outputs": []
    },
    {
      "cell_type": "code",
      "source": [
        "def client_fn(cid: str) -> FlowerClient:\n",
        "    \"\"\"Create a Flower client representing a single organization.\"\"\"\n",
        "\n",
        "    # Load model\n",
        "    net = Net().to(DEVICE)\n",
        "\n",
        "    # Load data (CIFAR-10)\n",
        "    # Note: each client gets a different trainloader/valloader, so each client\n",
        "    # will train and evaluate on their own unique data\n",
        "    trainloader = trainloaders[int(cid)]\n",
        "    valloader = valloaders[int(cid)]\n",
        "\n",
        "    # Create a  single Flower client representing a single organization\n",
        "    return FlowerClient(net, trainloader, valloader)"
      ],
      "metadata": {
        "id": "9xt-1l8K6Vz3"
      },
      "execution_count": null,
      "outputs": []
    },
    {
      "cell_type": "code",
      "source": [
        "# Create FedAvg strategy\n",
        "strategy = fl.server.strategy.FedAvg(\n",
        "    fraction_fit=0.1,  # Sample 100% of available clients for training\n",
        "    fraction_evaluate=0.25,  # Sample 50% of available clients for evaluation\n",
        "    min_fit_clients=8,  # Never sample less than 10 clients for training\n",
        "    min_evaluate_clients=20,  # Never sample less than 5 clients for evaluation\n",
        "    min_available_clients=no_of_clients,  # Wait until all 10 clients are available\n",
        ")\n",
        "\n",
        "# Specify client resources if you need GPU (defaults to 1 CPU and 0 GPU)\n",
        "client_resources = None\n",
        "\n",
        "\n",
        "# Start simulation\n",
        "fl.simulation.start_simulation(\n",
        "    client_fn=client_fn,\n",
        "    num_clients=no_of_clients,\n",
        "    config=fl.server.ServerConfig(num_rounds=5),\n",
        "    strategy=strategy,\n",
        "    client_resources=client_resources,\n",
        ")"
      ],
      "metadata": {
        "colab": {
          "base_uri": "https://localhost:8080/"
        },
        "id": "M6eO2DTA8fIX",
        "outputId": "90d2e8dd-401e-4723-fe9a-c26c770e51e7"
      },
      "execution_count": null,
      "outputs": [
        {
          "output_type": "stream",
          "name": "stderr",
          "text": [
            "INFO flwr 2023-09-08 02:06:56,782 | app.py:175 | Starting Flower simulation, config: ServerConfig(num_rounds=5, round_timeout=None)\n",
            "INFO:flwr:Starting Flower simulation, config: ServerConfig(num_rounds=5, round_timeout=None)\n",
            "2023-09-08 02:06:59,967\tINFO worker.py:1621 -- Started a local Ray instance.\n",
            "INFO flwr 2023-09-08 02:07:02,741 | app.py:210 | Flower VCE: Ray initialized with resources: {'CPU': 2.0, 'node:__internal_head__': 1.0, 'node:172.28.0.12': 1.0, 'memory': 7794627380.0, 'object_store_memory': 3897313689.0}\n",
            "INFO:flwr:Flower VCE: Ray initialized with resources: {'CPU': 2.0, 'node:__internal_head__': 1.0, 'node:172.28.0.12': 1.0, 'memory': 7794627380.0, 'object_store_memory': 3897313689.0}\n",
            "INFO flwr 2023-09-08 02:07:02,749 | app.py:218 | No `client_resources` specified. Using minimal resources for clients.\n",
            "INFO:flwr:No `client_resources` specified. Using minimal resources for clients.\n",
            "INFO flwr 2023-09-08 02:07:02,761 | app.py:224 | Flower VCE: Resources for each Virtual Client: {'num_cpus': 1, 'num_gpus': 0.0}\n",
            "INFO:flwr:Flower VCE: Resources for each Virtual Client: {'num_cpus': 1, 'num_gpus': 0.0}\n",
            "INFO flwr 2023-09-08 02:07:02,827 | app.py:270 | Flower VCE: Creating VirtualClientEngineActorPool with 2 actors\n",
            "INFO:flwr:Flower VCE: Creating VirtualClientEngineActorPool with 2 actors\n",
            "INFO flwr 2023-09-08 02:07:02,841 | server.py:89 | Initializing global parameters\n",
            "INFO:flwr:Initializing global parameters\n",
            "INFO flwr 2023-09-08 02:07:02,858 | server.py:276 | Requesting initial parameters from one random client\n",
            "INFO:flwr:Requesting initial parameters from one random client\n",
            "\u001b[2m\u001b[36m(pid=1729)\u001b[0m 2023-09-08 02:07:08.023321: W tensorflow/compiler/tf2tensorrt/utils/py_utils.cc:38] TF-TRT Warning: Could not find TensorRT\n",
            "INFO flwr 2023-09-08 02:07:20,620 | server.py:280 | Received initial parameters from one random client\n",
            "INFO:flwr:Received initial parameters from one random client\n",
            "INFO flwr 2023-09-08 02:07:20,627 | server.py:91 | Evaluating initial parameters\n",
            "INFO:flwr:Evaluating initial parameters\n",
            "INFO flwr 2023-09-08 02:07:20,630 | server.py:104 | FL starting\n",
            "INFO:flwr:FL starting\n",
            "DEBUG flwr 2023-09-08 02:07:20,635 | server.py:222 | fit_round 1: strategy sampled 10 clients (out of 108)\n",
            "DEBUG:flwr:fit_round 1: strategy sampled 10 clients (out of 108)\n",
            "DEBUG flwr 2023-09-08 02:07:31,059 | server.py:236 | fit_round 1 received 10 results and 0 failures\n",
            "DEBUG:flwr:fit_round 1 received 10 results and 0 failures\n",
            "WARNING flwr 2023-09-08 02:07:31,115 | fedavg.py:242 | No fit_metrics_aggregation_fn provided\n",
            "WARNING:flwr:No fit_metrics_aggregation_fn provided\n",
            "DEBUG flwr 2023-09-08 02:07:31,123 | server.py:173 | evaluate_round 1: strategy sampled 27 clients (out of 108)\n",
            "DEBUG:flwr:evaluate_round 1: strategy sampled 27 clients (out of 108)\n",
            "DEBUG flwr 2023-09-08 02:07:38,643 | server.py:187 | evaluate_round 1 received 27 results and 0 failures\n",
            "DEBUG:flwr:evaluate_round 1 received 27 results and 0 failures\n",
            "WARNING flwr 2023-09-08 02:07:38,648 | fedavg.py:273 | No evaluate_metrics_aggregation_fn provided\n",
            "WARNING:flwr:No evaluate_metrics_aggregation_fn provided\n",
            "DEBUG flwr 2023-09-08 02:07:38,651 | server.py:222 | fit_round 2: strategy sampled 10 clients (out of 108)\n",
            "DEBUG:flwr:fit_round 2: strategy sampled 10 clients (out of 108)\n",
            "DEBUG flwr 2023-09-08 02:07:43,895 | server.py:236 | fit_round 2 received 10 results and 0 failures\n",
            "DEBUG:flwr:fit_round 2 received 10 results and 0 failures\n",
            "DEBUG flwr 2023-09-08 02:07:43,940 | server.py:173 | evaluate_round 2: strategy sampled 27 clients (out of 108)\n",
            "DEBUG:flwr:evaluate_round 2: strategy sampled 27 clients (out of 108)\n",
            "DEBUG flwr 2023-09-08 02:07:51,260 | server.py:187 | evaluate_round 2 received 27 results and 0 failures\n",
            "DEBUG:flwr:evaluate_round 2 received 27 results and 0 failures\n",
            "DEBUG flwr 2023-09-08 02:07:51,264 | server.py:222 | fit_round 3: strategy sampled 10 clients (out of 108)\n",
            "DEBUG:flwr:fit_round 3: strategy sampled 10 clients (out of 108)\n",
            "DEBUG flwr 2023-09-08 02:07:55,314 | server.py:236 | fit_round 3 received 10 results and 0 failures\n",
            "DEBUG:flwr:fit_round 3 received 10 results and 0 failures\n",
            "DEBUG flwr 2023-09-08 02:07:55,344 | server.py:173 | evaluate_round 3: strategy sampled 27 clients (out of 108)\n",
            "DEBUG:flwr:evaluate_round 3: strategy sampled 27 clients (out of 108)\n",
            "DEBUG flwr 2023-09-08 02:08:05,908 | server.py:187 | evaluate_round 3 received 27 results and 0 failures\n",
            "DEBUG:flwr:evaluate_round 3 received 27 results and 0 failures\n",
            "DEBUG flwr 2023-09-08 02:08:05,912 | server.py:222 | fit_round 4: strategy sampled 10 clients (out of 108)\n",
            "DEBUG:flwr:fit_round 4: strategy sampled 10 clients (out of 108)\n",
            "DEBUG flwr 2023-09-08 02:08:10,982 | server.py:236 | fit_round 4 received 10 results and 0 failures\n",
            "DEBUG:flwr:fit_round 4 received 10 results and 0 failures\n",
            "DEBUG flwr 2023-09-08 02:08:11,024 | server.py:173 | evaluate_round 4: strategy sampled 27 clients (out of 108)\n",
            "DEBUG:flwr:evaluate_round 4: strategy sampled 27 clients (out of 108)\n",
            "DEBUG flwr 2023-09-08 02:08:16,798 | server.py:187 | evaluate_round 4 received 27 results and 0 failures\n",
            "DEBUG:flwr:evaluate_round 4 received 27 results and 0 failures\n",
            "DEBUG flwr 2023-09-08 02:08:16,802 | server.py:222 | fit_round 5: strategy sampled 10 clients (out of 108)\n",
            "DEBUG:flwr:fit_round 5: strategy sampled 10 clients (out of 108)\n",
            "DEBUG flwr 2023-09-08 02:08:23,007 | server.py:236 | fit_round 5 received 10 results and 0 failures\n",
            "DEBUG:flwr:fit_round 5 received 10 results and 0 failures\n",
            "DEBUG flwr 2023-09-08 02:08:23,058 | server.py:173 | evaluate_round 5: strategy sampled 27 clients (out of 108)\n",
            "DEBUG:flwr:evaluate_round 5: strategy sampled 27 clients (out of 108)\n",
            "DEBUG flwr 2023-09-08 02:08:28,762 | server.py:187 | evaluate_round 5 received 27 results and 0 failures\n",
            "DEBUG:flwr:evaluate_round 5 received 27 results and 0 failures\n",
            "INFO flwr 2023-09-08 02:08:28,769 | server.py:153 | FL finished in 68.13413976300001\n",
            "INFO:flwr:FL finished in 68.13413976300001\n",
            "INFO flwr 2023-09-08 02:08:28,774 | app.py:225 | app_fit: losses_distributed [(1, 0.08146388683254874), (2, 0.06756534945683848), (3, 0.04497039530815098), (4, 0.029843652288520376), (5, 0.02219818724124921)]\n",
            "INFO:flwr:app_fit: losses_distributed [(1, 0.08146388683254874), (2, 0.06756534945683848), (3, 0.04497039530815098), (4, 0.029843652288520376), (5, 0.02219818724124921)]\n",
            "INFO flwr 2023-09-08 02:08:28,778 | app.py:226 | app_fit: metrics_distributed_fit {}\n",
            "INFO:flwr:app_fit: metrics_distributed_fit {}\n",
            "INFO flwr 2023-09-08 02:08:28,780 | app.py:227 | app_fit: metrics_distributed {}\n",
            "INFO:flwr:app_fit: metrics_distributed {}\n",
            "INFO flwr 2023-09-08 02:08:28,782 | app.py:228 | app_fit: losses_centralized []\n",
            "INFO:flwr:app_fit: losses_centralized []\n",
            "INFO flwr 2023-09-08 02:08:28,783 | app.py:229 | app_fit: metrics_centralized {}\n",
            "INFO:flwr:app_fit: metrics_centralized {}\n"
          ]
        },
        {
          "output_type": "execute_result",
          "data": {
            "text/plain": [
              "History (loss, distributed):\n",
              "\tround 1: 0.08146388683254874\n",
              "\tround 2: 0.06756534945683848\n",
              "\tround 3: 0.04497039530815098\n",
              "\tround 4: 0.029843652288520376\n",
              "\tround 5: 0.02219818724124921"
            ]
          },
          "metadata": {},
          "execution_count": 16
        }
      ]
    },
    {
      "cell_type": "code",
      "source": [
        "def weighted_average(metrics: List[Tuple[int, Metrics]]) -> Metrics:\n",
        "    # Multiply accuracy of each client by number of examples used\n",
        "    accuracies = [num_examples * m[\"accuracy\"] for num_examples, m in metrics]\n",
        "    examples = [num_examples for num_examples, _ in metrics]\n",
        "\n",
        "    # Aggregate and return custom metric (weighted average)\n",
        "    return {\"accuracy\": sum(accuracies) / sum(examples)}"
      ],
      "metadata": {
        "id": "qFWKpmDr-WXH"
      },
      "execution_count": null,
      "outputs": []
    },
    {
      "cell_type": "code",
      "source": [
        "# Create FedAvg strategy\n",
        "strategy = fl.server.strategy.FedAvg(\n",
        "    fraction_fit=0.1,\n",
        "    fraction_evaluate=0.25,\n",
        "    min_fit_clients=8,\n",
        "    min_evaluate_clients=20,\n",
        "    min_available_clients=no_of_clients,\n",
        "    evaluate_metrics_aggregation_fn=weighted_average,  # <-- pass the metric aggregation function\n",
        ")\n",
        "\n",
        "# Start simulation\n",
        "fl.simulation.start_simulation(\n",
        "    client_fn=client_fn,\n",
        "    num_clients=no_of_clients,\n",
        "    config=fl.server.ServerConfig(num_rounds=5),\n",
        "    strategy=strategy,\n",
        "    client_resources=client_resources,\n",
        ")"
      ],
      "metadata": {
        "colab": {
          "base_uri": "https://localhost:8080/"
        },
        "id": "ZEE83PQY_JKx",
        "outputId": "5b054d75-3889-446f-8a2d-92d22f3556dc"
      },
      "execution_count": null,
      "outputs": [
        {
          "output_type": "stream",
          "name": "stderr",
          "text": [
            "WARNING flwr 2023-09-05 06:17:29,292 | fedavg.py:117 | \n",
            "Setting `min_available_clients` lower than `min_fit_clients` or\n",
            "`min_evaluate_clients` can cause the server to fail when there are too few clients\n",
            "connected to the server. `min_available_clients` must be set to a value larger\n",
            "than or equal to the values of `min_fit_clients` and `min_evaluate_clients`.\n",
            "\n",
            "WARNING:flwr:\n",
            "Setting `min_available_clients` lower than `min_fit_clients` or\n",
            "`min_evaluate_clients` can cause the server to fail when there are too few clients\n",
            "connected to the server. `min_available_clients` must be set to a value larger\n",
            "than or equal to the values of `min_fit_clients` and `min_evaluate_clients`.\n",
            "\n",
            "INFO flwr 2023-09-05 06:17:29,304 | app.py:175 | Starting Flower simulation, config: ServerConfig(num_rounds=5, round_timeout=None)\n",
            "INFO:flwr:Starting Flower simulation, config: ServerConfig(num_rounds=5, round_timeout=None)\n",
            "Exception in thread Thread-40:\n",
            "Traceback (most recent call last):\n",
            "  File \"/usr/lib/python3.10/threading.py\", line 1016, in _bootstrap_inner\n",
            "    self.run()\n",
            "  File \"/usr/lib/python3.10/threading.py\", line 1378, in run\n",
            "    self.function(*self.args, **self.kwargs)\n",
            "  File \"/usr/local/lib/python3.10/dist-packages/flwr/simulation/app.py\", line 258, in update_resources\n",
            "    num_max_actors = pool_size_from_resources(client_resources)\n",
            "  File \"/usr/local/lib/python3.10/dist-packages/flwr/simulation/ray_transport/ray_actor.py\", line 107, in pool_size_from_resources\n",
            "    nodes = ray.nodes()\n",
            "  File \"/usr/local/lib/python3.10/dist-packages/ray/_private/client_mode_hook.py\", line 103, in wrapper\n",
            "    return func(*args, **kwargs)\n",
            "  File \"/usr/local/lib/python3.10/dist-packages/ray/_private/state.py\", line 773, in nodes\n",
            "    return state.node_table()\n",
            "  File \"/usr/local/lib/python3.10/dist-packages/ray/_private/state.py\", line 148, in node_table\n",
            "    self._check_connected()\n",
            "  File \"/usr/local/lib/python3.10/dist-packages/ray/_private/state.py\", line 47, in _check_connected\n",
            "    raise ray.exceptions.RaySystemError(\n",
            "ray.exceptions.RaySystemError: System error: Ray has not been started yet. You can start Ray with 'ray.init()'.\n",
            "2023-09-05 06:17:34,214\tINFO worker.py:1621 -- Started a local Ray instance.\n",
            "INFO flwr 2023-09-05 06:17:36,807 | app.py:210 | Flower VCE: Ray initialized with resources: {'CPU': 2.0, 'object_store_memory': 3908521574.0, 'memory': 7817043150.0, 'node:172.28.0.12': 1.0, 'node:__internal_head__': 1.0}\n",
            "INFO:flwr:Flower VCE: Ray initialized with resources: {'CPU': 2.0, 'object_store_memory': 3908521574.0, 'memory': 7817043150.0, 'node:172.28.0.12': 1.0, 'node:__internal_head__': 1.0}\n",
            "INFO flwr 2023-09-05 06:17:36,821 | app.py:218 | No `client_resources` specified. Using minimal resources for clients.\n",
            "INFO:flwr:No `client_resources` specified. Using minimal resources for clients.\n",
            "INFO flwr 2023-09-05 06:17:36,826 | app.py:224 | Flower VCE: Resources for each Virtual Client: {'num_cpus': 1, 'num_gpus': 0.0}\n",
            "INFO:flwr:Flower VCE: Resources for each Virtual Client: {'num_cpus': 1, 'num_gpus': 0.0}\n",
            "INFO flwr 2023-09-05 06:17:36,879 | app.py:270 | Flower VCE: Creating VirtualClientEngineActorPool with 2 actors\n",
            "INFO:flwr:Flower VCE: Creating VirtualClientEngineActorPool with 2 actors\n",
            "INFO flwr 2023-09-05 06:17:36,889 | server.py:89 | Initializing global parameters\n",
            "INFO:flwr:Initializing global parameters\n",
            "INFO flwr 2023-09-05 06:17:36,896 | server.py:276 | Requesting initial parameters from one random client\n",
            "INFO:flwr:Requesting initial parameters from one random client\n",
            "\u001b[2m\u001b[36m(pid=16829)\u001b[0m 2023-09-05 06:17:41.299182: W tensorflow/compiler/tf2tensorrt/utils/py_utils.cc:38] TF-TRT Warning: Could not find TensorRT\n",
            "INFO flwr 2023-09-05 06:17:49,427 | server.py:280 | Received initial parameters from one random client\n",
            "INFO:flwr:Received initial parameters from one random client\n",
            "INFO flwr 2023-09-05 06:17:49,432 | server.py:91 | Evaluating initial parameters\n",
            "INFO:flwr:Evaluating initial parameters\n",
            "INFO flwr 2023-09-05 06:17:49,434 | server.py:104 | FL starting\n",
            "INFO:flwr:FL starting\n",
            "DEBUG flwr 2023-09-05 06:17:49,436 | server.py:222 | fit_round 1: strategy sampled 10 clients (out of 108)\n",
            "DEBUG:flwr:fit_round 1: strategy sampled 10 clients (out of 108)\n",
            "DEBUG flwr 2023-09-05 06:17:54,849 | server.py:236 | fit_round 1 received 10 results and 0 failures\n",
            "DEBUG:flwr:fit_round 1 received 10 results and 0 failures\n",
            "WARNING flwr 2023-09-05 06:17:54,881 | fedavg.py:242 | No fit_metrics_aggregation_fn provided\n",
            "WARNING:flwr:No fit_metrics_aggregation_fn provided\n",
            "DEBUG flwr 2023-09-05 06:17:54,888 | server.py:173 | evaluate_round 1: strategy sampled 54 clients (out of 108)\n",
            "DEBUG:flwr:evaluate_round 1: strategy sampled 54 clients (out of 108)\n",
            "DEBUG flwr 2023-09-05 06:18:06,295 | server.py:187 | evaluate_round 1 received 54 results and 0 failures\n",
            "DEBUG:flwr:evaluate_round 1 received 54 results and 0 failures\n",
            "DEBUG flwr 2023-09-05 06:18:06,299 | server.py:222 | fit_round 2: strategy sampled 10 clients (out of 108)\n",
            "DEBUG:flwr:fit_round 2: strategy sampled 10 clients (out of 108)\n",
            "DEBUG flwr 2023-09-05 06:18:09,809 | server.py:236 | fit_round 2 received 10 results and 0 failures\n",
            "DEBUG:flwr:fit_round 2 received 10 results and 0 failures\n",
            "DEBUG flwr 2023-09-05 06:18:09,840 | server.py:173 | evaluate_round 2: strategy sampled 54 clients (out of 108)\n",
            "DEBUG:flwr:evaluate_round 2: strategy sampled 54 clients (out of 108)\n",
            "DEBUG flwr 2023-09-05 06:18:21,162 | server.py:187 | evaluate_round 2 received 54 results and 0 failures\n",
            "DEBUG:flwr:evaluate_round 2 received 54 results and 0 failures\n",
            "DEBUG flwr 2023-09-05 06:18:21,167 | server.py:222 | fit_round 3: strategy sampled 10 clients (out of 108)\n",
            "DEBUG:flwr:fit_round 3: strategy sampled 10 clients (out of 108)\n",
            "DEBUG flwr 2023-09-05 06:18:24,593 | server.py:236 | fit_round 3 received 10 results and 0 failures\n",
            "DEBUG:flwr:fit_round 3 received 10 results and 0 failures\n",
            "DEBUG flwr 2023-09-05 06:18:24,629 | server.py:173 | evaluate_round 3: strategy sampled 54 clients (out of 108)\n",
            "DEBUG:flwr:evaluate_round 3: strategy sampled 54 clients (out of 108)\n",
            "DEBUG flwr 2023-09-05 06:18:34,856 | server.py:187 | evaluate_round 3 received 54 results and 0 failures\n",
            "DEBUG:flwr:evaluate_round 3 received 54 results and 0 failures\n",
            "DEBUG flwr 2023-09-05 06:18:34,860 | server.py:222 | fit_round 4: strategy sampled 10 clients (out of 108)\n",
            "DEBUG:flwr:fit_round 4: strategy sampled 10 clients (out of 108)\n",
            "DEBUG flwr 2023-09-05 06:18:39,814 | server.py:236 | fit_round 4 received 10 results and 0 failures\n",
            "DEBUG:flwr:fit_round 4 received 10 results and 0 failures\n",
            "DEBUG flwr 2023-09-05 06:18:39,848 | server.py:173 | evaluate_round 4: strategy sampled 54 clients (out of 108)\n",
            "DEBUG:flwr:evaluate_round 4: strategy sampled 54 clients (out of 108)\n",
            "DEBUG flwr 2023-09-05 06:18:50,752 | server.py:187 | evaluate_round 4 received 54 results and 0 failures\n",
            "DEBUG:flwr:evaluate_round 4 received 54 results and 0 failures\n",
            "DEBUG flwr 2023-09-05 06:18:50,757 | server.py:222 | fit_round 5: strategy sampled 10 clients (out of 108)\n",
            "DEBUG:flwr:fit_round 5: strategy sampled 10 clients (out of 108)\n",
            "DEBUG flwr 2023-09-05 06:18:55,783 | server.py:236 | fit_round 5 received 10 results and 0 failures\n",
            "DEBUG:flwr:fit_round 5 received 10 results and 0 failures\n",
            "DEBUG flwr 2023-09-05 06:18:55,818 | server.py:173 | evaluate_round 5: strategy sampled 54 clients (out of 108)\n",
            "DEBUG:flwr:evaluate_round 5: strategy sampled 54 clients (out of 108)\n",
            "DEBUG flwr 2023-09-05 06:19:04,945 | server.py:187 | evaluate_round 5 received 54 results and 0 failures\n",
            "DEBUG:flwr:evaluate_round 5 received 54 results and 0 failures\n",
            "INFO flwr 2023-09-05 06:19:04,952 | server.py:153 | FL finished in 75.51582481999958\n",
            "INFO:flwr:FL finished in 75.51582481999958\n",
            "INFO flwr 2023-09-05 06:19:04,958 | app.py:225 | app_fit: losses_distributed [(1, 0.08013980083594016), (2, 0.06124755625772958), (3, 0.038264066322082624), (4, 0.028340183474399417), (5, 0.02226828107930193)]\n",
            "INFO:flwr:app_fit: losses_distributed [(1, 0.08013980083594016), (2, 0.06124755625772958), (3, 0.038264066322082624), (4, 0.028340183474399417), (5, 0.02226828107930193)]\n",
            "INFO flwr 2023-09-05 06:19:04,962 | app.py:226 | app_fit: metrics_distributed_fit {}\n",
            "INFO:flwr:app_fit: metrics_distributed_fit {}\n",
            "INFO flwr 2023-09-05 06:19:04,965 | app.py:227 | app_fit: metrics_distributed {'accuracy': [(1, 0.464983164983165), (2, 0.6208754208754209), (3, 0.75993265993266), (4, 0.7878787878787877), (5, 0.8410774410774409)]}\n",
            "INFO:flwr:app_fit: metrics_distributed {'accuracy': [(1, 0.464983164983165), (2, 0.6208754208754209), (3, 0.75993265993266), (4, 0.7878787878787877), (5, 0.8410774410774409)]}\n",
            "INFO flwr 2023-09-05 06:19:04,967 | app.py:228 | app_fit: losses_centralized []\n",
            "INFO:flwr:app_fit: losses_centralized []\n",
            "INFO flwr 2023-09-05 06:19:04,971 | app.py:229 | app_fit: metrics_centralized {}\n",
            "INFO:flwr:app_fit: metrics_centralized {}\n"
          ]
        },
        {
          "output_type": "execute_result",
          "data": {
            "text/plain": [
              "History (loss, distributed):\n",
              "\tround 1: 0.08013980083594016\n",
              "\tround 2: 0.06124755625772958\n",
              "\tround 3: 0.038264066322082624\n",
              "\tround 4: 0.028340183474399417\n",
              "\tround 5: 0.02226828107930193\n",
              "History (metrics, distributed, evaluate):\n",
              "{'accuracy': [(1, 0.464983164983165), (2, 0.6208754208754209), (3, 0.75993265993266), (4, 0.7878787878787877), (5, 0.8410774410774409)]}"
            ]
          },
          "metadata": {},
          "execution_count": 37
        }
      ]
    }
  ]
}