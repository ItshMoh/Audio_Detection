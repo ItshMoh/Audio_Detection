{
  "nbformat": 4,
  "nbformat_minor": 0,
  "metadata": {
    "colab": {
      "provenance": [],
      "authorship_tag": "ABX9TyMHu4LRdjpyWMjTkne9wW6I",
      "include_colab_link": true
    },
    "kernelspec": {
      "name": "python3",
      "display_name": "Python 3"
    },
    "language_info": {
      "name": "python"
    }
  },
  "cells": [
    {
      "cell_type": "markdown",
      "metadata": {
        "id": "view-in-github",
        "colab_type": "text"
      },
      "source": [
        "<a href=\"https://colab.research.google.com/github/ItshMoh/Audio_Detection/blob/main/Neural_style_transfer.ipynb\" target=\"_parent\"><img src=\"https://colab.research.google.com/assets/colab-badge.svg\" alt=\"Open In Colab\"/></a>"
      ]
    },
    {
      "cell_type": "code",
      "execution_count": null,
      "metadata": {
        "id": "68H8MxypPeDL"
      },
      "outputs": [],
      "source": [
        "import tensorflow_hub as hub\n",
        "import tensorflow as tf\n",
        "import matplotlib.pyplot as plt\n",
        "import numpy as np\n",
        "import cv2"
      ]
    },
    {
      "cell_type": "code",
      "source": [
        "model = hub.load('https://tfhub.dev/google/magenta/arbitrary-image-stylization-v1-256/2')"
      ],
      "metadata": {
        "id": "VesDgY0wPtxz"
      },
      "execution_count": null,
      "outputs": []
    },
    {
      "cell_type": "code",
      "source": [
        "def load_image(img_path):\n",
        "  img =tf.io.read_file(img_path)\n",
        "  img=tf.image.decode_image(img,channels=3)\n",
        "  img=tf.image.convert_image_dtype(img,tf.float32)\n",
        "  img=img[tf.newaxis,:]\n",
        "  return img"
      ],
      "metadata": {
        "id": "raMXE5zs2iGH"
      },
      "execution_count": null,
      "outputs": []
    },
    {
      "cell_type": "code",
      "source": [
        "#Here we put the content image\n",
        "content_image= load_image('/content/our_image.jpg')\n",
        "#Here we put the style image.\n",
        "style_image= load_image('/content/picasso_style.jpg')"
      ],
      "metadata": {
        "id": "TLNo1sbe4vwf"
      },
      "execution_count": null,
      "outputs": []
    },
    {
      "cell_type": "code",
      "source": [
        "plt.imshow(np.squeeze(content_image))\n",
        "plt.show()"
      ],
      "metadata": {
        "id": "vo6l2VRh5FdI"
      },
      "execution_count": null,
      "outputs": []
    },
    {
      "cell_type": "code",
      "source": [
        "styled_image= model(tf.constant(content_image), tf.constant(style_image))[0]"
      ],
      "metadata": {
        "id": "6KhMv8Dq6L3E"
      },
      "execution_count": null,
      "outputs": []
    },
    {
      "cell_type": "code",
      "source": [
        "plt.imshow(np.squeeze(styled_image))\n",
        "plt.show()"
      ],
      "metadata": {
        "id": "Ba8fER-s6gZP"
      },
      "execution_count": null,
      "outputs": []
    },
    {
      "cell_type": "code",
      "source": [
        "#For creating the image and to download it .\n",
        "cv2.imwrite('our_styled_img.jpg', cv2.cvtColor(np.squeeze(styled_image)*255, cv2.COLOR_BGR2RGB))"
      ],
      "metadata": {
        "colab": {
          "base_uri": "https://localhost:8080/"
        },
        "id": "eiUA4INk95JO",
        "outputId": "048dbf96-be62-4465-bb0f-0087b22ab45f"
      },
      "execution_count": null,
      "outputs": [
        {
          "output_type": "execute_result",
          "data": {
            "text/plain": [
              "True"
            ]
          },
          "metadata": {},
          "execution_count": 28
        }
      ]
    }
  ]
}